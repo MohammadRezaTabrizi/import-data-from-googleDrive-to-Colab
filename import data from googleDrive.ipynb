{
  "nbformat": 4,
  "nbformat_minor": 0,
  "metadata": {
    "colab": {
      "name": "Untitled15.ipynb",
      "provenance": []
    },
    "kernelspec": {
      "name": "python3",
      "display_name": "Python 3"
    }
  },
  "cells": [
    {
      "cell_type": "markdown",
      "metadata": {
        "id": "UQ7Cgaz-zlmo",
        "colab_type": "text"
      },
      "source": [
        "### import data from google Drive to Colab"
      ]
    },
    {
      "cell_type": "code",
      "metadata": {
        "id": "WpDtDu8ozdWZ",
        "colab_type": "code",
        "colab": {}
      },
      "source": [
        "!pip install pydrive\n",
        "from pydrive.auth import GoogleAuth\n",
        "from pydrive.drive import GoogleDrive\n",
        "from google.colab import auth\n",
        "from oauth2client.client import GoogleCredentials\n",
        "auth.authenticate_user()\n",
        "gauth = GoogleAuth()\n",
        "gauth.credentials = GoogleCredentials.get_application_default()\n",
        "drive = GoogleDrive(gauth)"
      ],
      "execution_count": 0,
      "outputs": []
    },
    {
      "cell_type": "code",
      "metadata": {
        "id": "Mdpl-s9MzeXG",
        "colab_type": "code",
        "colab": {}
      },
      "source": [
        "x_BD_2 = drive.CreateFile({'id':\"Id of the data on Google Drive\"})   # id of file to accesshttps://drive.google.com/open?id=xxxxxxxxxxxxxxxxxxxxx\n",
        "x_BD_2.GetContentFile('Name of data')        # file name \n",
        "y_BD_2 = drive.CreateFile({'id':\"Id of the data on Google Drive\"})  \n",
        "y_BD_2.GetContentFile('Name of the data')"
      ],
      "execution_count": 0,
      "outputs": []
    }
  ]
}